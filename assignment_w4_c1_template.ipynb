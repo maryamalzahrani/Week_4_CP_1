{
  "nbformat": 4,
  "nbformat_minor": 0,
  "metadata": {
    "kernelspec": {
      "display_name": "Python 3",
      "language": "python",
      "name": "python3"
    },
    "language_info": {
      "codemirror_mode": {
        "name": "ipython",
        "version": 3
      },
      "file_extension": ".py",
      "mimetype": "text/x-python",
      "name": "python",
      "nbconvert_exporter": "python",
      "pygments_lexer": "ipython3",
      "version": "3.8.8"
    },
    "colab": {
      "name": "assignment_w4_c1_template.ipynb",
      "provenance": []
    }
  },
  "cells": [
    {
      "cell_type": "markdown",
      "metadata": {
        "id": "lbDfguv9UO8v"
      },
      "source": [
        "Week 4, Assignment C1:\n",
        "\n",
        "CAPM and Modern Portfolio Theory in Python\n",
        "\n",
        "In this notebook, we will study Modern Portfolio Theory in Python.\n",
        "Please complete the lines bellow where you see \"# TODO\"."
      ]
    },
    {
      "cell_type": "code",
      "metadata": {
        "id": "FMP6rEv1UO8w"
      },
      "source": [
        "#Objective 1.\n",
        "#Use this cell to import Numpy (as np) and Pyplot (from Matplotlib as plt) packages.\n",
        "\n",
        "import pandas\n",
        "import pandas as pd\n",
        "import numpy\n",
        "import numpy as np\n",
        "\n",
        "\n"
      ],
      "execution_count": 2,
      "outputs": []
    },
    {
      "cell_type": "code",
      "metadata": {
        "id": "7JHhVsyJUO8w"
      },
      "source": [
        "#Objective 2.\n",
        "#Select a number of asset classes ( > 1 ) and a number of observations ( > 500 ).  Store your chosen values to the\n",
        "#two new variables \"no_of_asset_classes\" and \"no_of_observations\", respectively.\n",
        "\n",
        "\n",
        "no_of_asset_classes = 10\n",
        "no_of_observations = 900"
      ],
      "execution_count": 4,
      "outputs": []
    },
    {
      "cell_type": "code",
      "metadata": {
        "id": "H68oFiXMUO8x"
      },
      "source": [
        "np.random.seed(123)\n",
        "matrix_of_return_values = np.random.randn(no_of_asset_classes, no_of_observations)\n",
        "\n",
        "#Objective 3.\n",
        "#Select a number of test portfolios to generate ( > 1,000 < 20,000).  Store your chosen value to the new variable\n",
        "#\"no_of_portfolios\".  \n",
        "\n",
        "no_of_portfolios = 19000"
      ],
      "execution_count": 5,
      "outputs": []
    },
    {
      "cell_type": "code",
      "metadata": {
        "id": "8mlci66pUO8x"
      },
      "source": [
        "#Objective 4.\n",
        "#Initialize four empty lists called \"collection_of_random_asset_weights\", \"portfolio_means\",\n",
        "#\"portfolio_standard_deviations\", and \"portfolio_sharpe_ratios\", respectively.\n",
        "\n",
        "collection_of_random_asset_weights = []\n",
        "portfolio_means = []\n",
        "portfolio_standard_deviations = []\n",
        "portfolio_sharpe_ratios = []"
      ],
      "execution_count": 6,
      "outputs": []
    },
    {
      "cell_type": "code",
      "metadata": {
        "id": "u9QdpTDSUO8x"
      },
      "source": [
        "#Objective 5.\n",
        "#Write a function called \"get_random_asset_weights\" that takes as input (Input.I) any number of asset classes\n",
        "#\"no_of_asset_classes\" and returns (Output.I) a Numpy vector (matrix) of weights (percentages) of length \"no_of_asset_classes\"\n",
        "#whose sum is one (1).\n",
        "\n",
        "no_of_asset_classes = 900\n",
        "def get_random_asset_weights(no_of_asset_classes):\n",
        "    random_asset_weights = np.random.rand(no_of_asset_classes)\n",
        "    total =random_asset_weights.sum()\n",
        "    random_asset_weights = random_asset_weights/total\n",
        "    return random_asset_weights \n",
        "    len(get_random_asset_weights(no_of_asset_classes))"
      ],
      "execution_count": 8,
      "outputs": []
    },
    {
      "cell_type": "code",
      "metadata": {
        "id": "235j0EJ5UO8x"
      },
      "source": [
        "#Objective 6.\n",
        "#Write a function called \"get_portfolio_statistics\" that takes as input (Input.I) a Numpy vector (matrix)\n",
        "#\"asset_weights\" of weights (percentages) whose sum is one (1) and (Input.II) a Numpy matrix of return values\n",
        "#\"matrix_of_return_values\" whose first axis length is the same as the length of the Numpy vector (matrix)\n",
        "#\"asset_weights\" and returns (Output.I) the mean \"portfolio_mean\", (Output.II) the standard deviation\n",
        "#\"portfolio_standard_deviation\", and (Output.III) the Sharpe ratio \"portfolio_sharpe_ratio\" of the portfolio of\n",
        "#assets with asset weights \"asset_weights\" and asset return values belonging to \"matrix_of_return_values\".\n",
        "\n",
        "def get_portfolio_statistics(asset_weights, matrix_of_return_values):\n",
        "    asset_means = np.asmatrix(np.mean(matrix_of_return_values, axis = 1))\n",
        "    asset_covariances = #todo\n",
        "    portfolio_mean = #todo \n",
        "    #portfolio_mean = #todo second line if needed.\n",
        "    portfolio_standard_deviation = #todo\n",
        "    #portfolio_standard_deviation = #todo second line if needed.\n",
        "    portfolio_sharpe_ratio = # todo\n",
        "    return portfolio_mean, portfolio_standard_deviation, portfolio_sharpe_ratio"
      ],
      "execution_count": null,
      "outputs": []
    },
    {
      "cell_type": "code",
      "metadata": {
        "id": "cluvq7FbUO8x"
      },
      "source": [
        "#Objective 7.\n",
        "#Using the functions constructed in Objectives 5 and 6, write a loop that, on each iteration, determines a\n",
        "#Numpy vector (matrix) of weights (percentages) \"random_asset_weights\" of length \"no_of_asset_classes\" whose sum \n",
        "#is one (1) and then appends to each of the lists \"collection_of_random_asset_weights\", \"portfolio_means\",\n",
        "#\"portfolio_standard_deviations\", and \"portfolio_sharpe_ratios\" the Numpy vector (matrix) of weights (percentages)\n",
        "#\"random_asset_weights\"; and the mean \"portfolio_mean\", the standard deviation \"portfolio_standard_deviation\", and\n",
        "#the Sharpe ratio \"portfolio_sharpe_ratio\" of the portfolio of assets with asset weights \"asset_weights\" and asset \n",
        "#return values belonging to \"matrix_of_return_values\", respectively.\n",
        "\n",
        "while len(collection_of_random_asset_weights) < no_of_portfolios:\n",
        "    random_asset_weights = #todo\n",
        "    collection_of_random_asset_weights.append(#todo) \n",
        "    portfolio_means.append(#todo)\n",
        "    portfolio_standard_deviations.append(#todo)\n",
        "    portfolio_sharpe_ratios.append(#todo)"
      ],
      "execution_count": null,
      "outputs": []
    },
    {
      "cell_type": "code",
      "metadata": {
        "id": "GILtJwKtUO8y"
      },
      "source": [
        "#Objective 8.\n",
        "#Make a scatterplot of the corresponding values (x,y) = (portfolio_standard_deviation, portfolio_mean) from the\n",
        "#lists \"portfolio_standard_deviations\" and \"portfolio_means\", respectively.\n",
        "\n",
        "plt.plot(#todo, #todo, 'o', markersize = 3, color = 'lightskyblue') \n",
        "plt.show()"
      ],
      "execution_count": null,
      "outputs": []
    },
    {
      "cell_type": "code",
      "metadata": {
        "id": "eeDys0-qUO8y"
      },
      "source": [
        "#Objective 9.\n",
        "#Find the list index of the portfolio of highest Sharpe ratio.\n",
        "\n",
        "index = #todo"
      ],
      "execution_count": null,
      "outputs": []
    },
    {
      "cell_type": "code",
      "metadata": {
        "id": "AgT5VW5BUO8y"
      },
      "source": [
        "#Objective 10.\n",
        "#Print the asset weights and Sharpe ratio of the portfolio of highest Sharpe ratio, using index above.\n",
        "\n",
        "print(#todo)\n",
        "print(#todo)"
      ],
      "execution_count": null,
      "outputs": []
    },
    {
      "cell_type": "code",
      "metadata": {
        "id": "PTbH1nZeUO8z"
      },
      "source": [
        "#Objective 11.\n",
        "#Add the Capital Market Line to your scatterplot from Objective 8.\n",
        "\n",
        "x = np.linspace(0, max(portfolio_standard_deviations), 10000)\n",
        "y = portfolio_sharpe_ratios[index] * x\n",
        "plt.plot(#todo, #todo, 'o', markersize = 3, color = 'lightskyblue')\n",
        "plt.plot(x, y, '-', linewidth = 2, color = 'green')\n",
        "plt.show()"
      ],
      "execution_count": null,
      "outputs": []
    },
    {
      "cell_type": "code",
      "metadata": {
        "id": "QApGAm5OUO8z"
      },
      "source": [
        "#Objective 12.\n",
        "#All of the work in this notebook assumes a risk-free rate of zero (0.00).  How could this work be modified to\n",
        "#accommodate a nonzero risk-free rate?  Explain."
      ],
      "execution_count": null,
      "outputs": []
    },
    {
      "cell_type": "markdown",
      "metadata": {
        "id": "vvvj0cmpUO8z"
      },
      "source": [
        "-- Please write Your Answer Here --"
      ]
    }
  ]
}